{
 "cells": [
  {
   "cell_type": "code",
   "execution_count": 1,
   "metadata": {},
   "outputs": [
    {
     "name": "stdout",
     "output_type": "stream",
     "text": [
      "Requirement already satisfied: numpy in c:\\python311\\lib\\site-packages (1.26.4)\n",
      "Note: you may need to restart the kernel to use updated packages.\n"
     ]
    },
    {
     "name": "stderr",
     "output_type": "stream",
     "text": [
      "\n",
      "[notice] A new release of pip is available: 23.1.2 -> 24.0\n",
      "[notice] To update, run: python.exe -m pip install --upgrade pip\n"
     ]
    }
   ],
   "source": [
    "pip install numpy"
   ]
  },
  {
   "cell_type": "code",
   "execution_count": 3,
   "metadata": {},
   "outputs": [
    {
     "name": "stdout",
     "output_type": "stream",
     "text": [
      "Collecting pandas\n",
      "  Downloading pandas-2.2.1-cp311-cp311-win_amd64.whl (11.6 MB)\n",
      "                                              0.0/11.6 MB ? eta -:--:--\n",
      "     ----                                     1.2/11.6 MB 38.0 MB/s eta 0:00:01\n",
      "     -----                                    1.6/11.6 MB 34.5 MB/s eta 0:00:01\n",
      "     -----                                    1.6/11.6 MB 34.5 MB/s eta 0:00:01\n",
      "     -----                                    1.6/11.6 MB 34.5 MB/s eta 0:00:01\n",
      "     -----                                    1.6/11.6 MB 34.5 MB/s eta 0:00:01\n",
      "     ------                                   1.9/11.6 MB 7.2 MB/s eta 0:00:02\n",
      "     -----------                              3.2/11.6 MB 10.9 MB/s eta 0:00:01\n",
      "     -----------                              3.2/11.6 MB 10.9 MB/s eta 0:00:01\n",
      "     -----------                              3.2/11.6 MB 10.9 MB/s eta 0:00:01\n",
      "     -----------                              3.2/11.6 MB 10.9 MB/s eta 0:00:01\n",
      "     -----------                              3.2/11.6 MB 10.9 MB/s eta 0:00:01\n",
      "     -----------                              3.2/11.6 MB 10.9 MB/s eta 0:00:01\n",
      "     -----------                              3.2/11.6 MB 10.9 MB/s eta 0:00:01\n",
      "     -----------                              3.2/11.6 MB 10.9 MB/s eta 0:00:01\n",
      "     -----------                              3.2/11.6 MB 10.9 MB/s eta 0:00:01\n",
      "     -----------                              3.2/11.6 MB 10.9 MB/s eta 0:00:01\n",
      "     -----------                              3.2/11.6 MB 10.9 MB/s eta 0:00:01\n",
      "     -----------                              3.2/11.6 MB 10.9 MB/s eta 0:00:01\n",
      "     -----------                              3.2/11.6 MB 10.9 MB/s eta 0:00:01\n",
      "     -----------                              3.2/11.6 MB 10.9 MB/s eta 0:00:01\n",
      "     -----------                              3.3/11.6 MB 3.4 MB/s eta 0:00:03\n",
      "     -------------                            4.0/11.6 MB 3.9 MB/s eta 0:00:02\n",
      "     -----------------                        5.1/11.6 MB 4.9 MB/s eta 0:00:02\n",
      "     -----------------                        5.1/11.6 MB 4.9 MB/s eta 0:00:02\n",
      "     -----------------                        5.1/11.6 MB 4.9 MB/s eta 0:00:02\n",
      "     -----------------                        5.1/11.6 MB 4.9 MB/s eta 0:00:02\n",
      "     -----------------                        5.1/11.6 MB 4.9 MB/s eta 0:00:02\n",
      "     -----------------                        5.1/11.6 MB 4.9 MB/s eta 0:00:02\n",
      "     -----------------                        5.1/11.6 MB 4.9 MB/s eta 0:00:02\n",
      "     -----------------                        5.1/11.6 MB 4.9 MB/s eta 0:00:02\n",
      "     -----------------                        5.1/11.6 MB 4.9 MB/s eta 0:00:02\n",
      "     -----------------                        5.1/11.6 MB 4.9 MB/s eta 0:00:02\n",
      "     -----------------                        5.1/11.6 MB 4.9 MB/s eta 0:00:02\n",
      "     -----------------                        5.1/11.6 MB 4.9 MB/s eta 0:00:02\n",
      "     -----------------                        5.1/11.6 MB 4.9 MB/s eta 0:00:02\n",
      "     -----------------                        5.1/11.6 MB 4.9 MB/s eta 0:00:02\n",
      "     -------------------                      5.6/11.6 MB 3.2 MB/s eta 0:00:02\n",
      "     -----------------------                  6.9/11.6 MB 3.9 MB/s eta 0:00:02\n",
      "     -----------------------                  6.9/11.6 MB 3.9 MB/s eta 0:00:02\n",
      "     -----------------------                  6.9/11.6 MB 3.9 MB/s eta 0:00:02\n",
      "     -----------------------                  6.9/11.6 MB 3.9 MB/s eta 0:00:02\n",
      "     -----------------------                  6.9/11.6 MB 3.9 MB/s eta 0:00:02\n",
      "     -----------------------                  6.9/11.6 MB 3.9 MB/s eta 0:00:02\n",
      "     -----------------------                  6.9/11.6 MB 3.9 MB/s eta 0:00:02\n",
      "     -----------------------                  6.9/11.6 MB 3.9 MB/s eta 0:00:02\n",
      "     -----------------------                  6.9/11.6 MB 3.9 MB/s eta 0:00:02\n",
      "     -----------------------                  6.9/11.6 MB 3.9 MB/s eta 0:00:02\n",
      "     -----------------------                  6.9/11.6 MB 3.9 MB/s eta 0:00:02\n",
      "     -----------------------                  6.9/11.6 MB 3.9 MB/s eta 0:00:02\n",
      "     -----------------------                  6.9/11.6 MB 3.9 MB/s eta 0:00:02\n",
      "     -----------------------                  6.9/11.6 MB 3.9 MB/s eta 0:00:02\n",
      "     -----------------------                  6.9/11.6 MB 2.9 MB/s eta 0:00:02\n",
      "     --------------------------               7.6/11.6 MB 3.1 MB/s eta 0:00:02\n",
      "     ----------------------------             8.4/11.6 MB 3.3 MB/s eta 0:00:01\n",
      "     ------------------------------           8.8/11.6 MB 3.4 MB/s eta 0:00:01\n",
      "     ------------------------------           8.8/11.6 MB 3.4 MB/s eta 0:00:01\n",
      "     ------------------------------           8.8/11.6 MB 3.4 MB/s eta 0:00:01\n",
      "     ------------------------------           8.8/11.6 MB 3.4 MB/s eta 0:00:01\n",
      "     ------------------------------           8.8/11.6 MB 3.4 MB/s eta 0:00:01\n",
      "     ------------------------------           8.8/11.6 MB 3.4 MB/s eta 0:00:01\n",
      "     ------------------------------           8.8/11.6 MB 3.4 MB/s eta 0:00:01\n",
      "     ------------------------------           8.8/11.6 MB 3.4 MB/s eta 0:00:01\n",
      "     ------------------------------           8.8/11.6 MB 3.4 MB/s eta 0:00:01\n",
      "     ------------------------------           8.8/11.6 MB 3.4 MB/s eta 0:00:01\n",
      "     ------------------------------           8.8/11.6 MB 3.4 MB/s eta 0:00:01\n",
      "     ------------------------------           8.8/11.6 MB 3.4 MB/s eta 0:00:01\n",
      "     ------------------------------           8.8/11.6 MB 3.4 MB/s eta 0:00:01\n",
      "     ------------------------------           8.8/11.6 MB 3.4 MB/s eta 0:00:01\n",
      "     -------------------------------          9.0/11.6 MB 2.8 MB/s eta 0:00:01\n",
      "     ---------------------------------        9.6/11.6 MB 2.9 MB/s eta 0:00:01\n",
      "     -----------------------------------      10.4/11.6 MB 3.1 MB/s eta 0:00:01\n",
      "     ------------------------------------     10.6/11.6 MB 3.1 MB/s eta 0:00:01\n",
      "     ------------------------------------     10.6/11.6 MB 3.1 MB/s eta 0:00:01\n",
      "     ------------------------------------     10.6/11.6 MB 3.1 MB/s eta 0:00:01\n",
      "     ------------------------------------     10.6/11.6 MB 3.1 MB/s eta 0:00:01\n",
      "     ------------------------------------     10.6/11.6 MB 3.1 MB/s eta 0:00:01\n",
      "     ------------------------------------     10.6/11.6 MB 3.1 MB/s eta 0:00:01\n",
      "     ------------------------------------     10.6/11.6 MB 3.1 MB/s eta 0:00:01\n",
      "     ------------------------------------     10.6/11.6 MB 3.1 MB/s eta 0:00:01\n",
      "     ------------------------------------     10.6/11.6 MB 3.1 MB/s eta 0:00:01\n",
      "     ------------------------------------     10.6/11.6 MB 3.1 MB/s eta 0:00:01\n",
      "     ------------------------------------     10.6/11.6 MB 3.1 MB/s eta 0:00:01\n",
      "     ------------------------------------     10.6/11.6 MB 3.1 MB/s eta 0:00:01\n",
      "     ------------------------------------     10.6/11.6 MB 3.1 MB/s eta 0:00:01\n",
      "     ------------------------------------     10.6/11.6 MB 3.1 MB/s eta 0:00:01\n",
      "     -------------------------------------    10.9/11.6 MB 2.6 MB/s eta 0:00:01\n",
      "     ---------------------------------------  11.4/11.6 MB 2.5 MB/s eta 0:00:01\n",
      "     ---------------------------------------  11.6/11.6 MB 2.5 MB/s eta 0:00:01\n",
      "     ---------------------------------------- 11.6/11.6 MB 2.5 MB/s eta 0:00:00\n",
      "Requirement already satisfied: numpy<2,>=1.23.2 in c:\\python311\\lib\\site-packages (from pandas) (1.26.4)\n",
      "Requirement already satisfied: python-dateutil>=2.8.2 in c:\\python311\\lib\\site-packages (from pandas) (2.8.2)\n",
      "Collecting pytz>=2020.1 (from pandas)\n",
      "  Downloading pytz-2024.1-py2.py3-none-any.whl (505 kB)\n",
      "                                              0.0/505.5 kB ? eta -:--:--\n",
      "     ------------------------------------- 505.5/505.5 kB 16.0 MB/s eta 0:00:00\n",
      "Collecting tzdata>=2022.7 (from pandas)\n",
      "  Downloading tzdata-2024.1-py2.py3-none-any.whl (345 kB)\n",
      "                                              0.0/345.4 kB ? eta -:--:--\n",
      "     -------------------------             235.5/345.4 kB 14.1 MB/s eta 0:00:01\n",
      "     -------------------------             235.5/345.4 kB 14.1 MB/s eta 0:00:01\n",
      "     -------------------------             235.5/345.4 kB 14.1 MB/s eta 0:00:01\n",
      "     -------------------------             235.5/345.4 kB 14.1 MB/s eta 0:00:01\n",
      "     -------------------------             235.5/345.4 kB 14.1 MB/s eta 0:00:01\n",
      "     -------------------------------------- 345.4/345.4 kB 1.3 MB/s eta 0:00:00\n",
      "Requirement already satisfied: six>=1.5 in c:\\python311\\lib\\site-packages (from python-dateutil>=2.8.2->pandas) (1.16.0)\n",
      "Installing collected packages: pytz, tzdata, pandas\n",
      "Successfully installed pandas-2.2.1 pytz-2024.1 tzdata-2024.1\n",
      "Note: you may need to restart the kernel to use updated packages.\n"
     ]
    },
    {
     "name": "stderr",
     "output_type": "stream",
     "text": [
      "\n",
      "[notice] A new release of pip is available: 23.1.2 -> 24.0\n",
      "[notice] To update, run: python.exe -m pip install --upgrade pip\n"
     ]
    }
   ],
   "source": [
    "pip install pandas"
   ]
  },
  {
   "cell_type": "code",
   "execution_count": 4,
   "metadata": {},
   "outputs": [],
   "source": [
    "import  pandas as pd"
   ]
  },
  {
   "cell_type": "code",
   "execution_count": 2,
   "metadata": {},
   "outputs": [],
   "source": [
    "import numpy as np"
   ]
  },
  {
   "cell_type": "code",
   "execution_count": null,
   "metadata": {},
   "outputs": [],
   "source": [
    "array_exemplo = np.array([3, ,1, 5, 2, 4])\n",
    "array_ordenado = np.sort(array_exemplo)\n",
    " \n",
    "print (\"Array_exemplo\", array_exemplo )\n",
    "print (\"Array_ordenado\", array_ordenado)"
   ]
  },
  {
   "cell_type": "code",
   "execution_count": 5,
   "metadata": {},
   "outputs": [
    {
     "ename": "SyntaxError",
     "evalue": "invalid syntax (315640000.py, line 1)",
     "output_type": "error",
     "traceback": [
      "\u001b[1;36m  Cell \u001b[1;32mIn[5], line 1\u001b[1;36m\u001b[0m\n\u001b[1;33m    dadpws = pd.read._csv(C:\\Users\\logonrmlocal\\Desktop\\manutencao_preditiva.csv)\u001b[0m\n\u001b[1;37m                           ^\u001b[0m\n\u001b[1;31mSyntaxError\u001b[0m\u001b[1;31m:\u001b[0m invalid syntax\n"
     ]
    }
   ],
   "source": [
    "dadpws = pd.read._csv(C:\\Users\\logonrmlocal\\Desktop\\manutencao_preditiva.csv)"
   ]
  }
 ],
 "metadata": {
  "kernelspec": {
   "display_name": "Python 3",
   "language": "python",
   "name": "python3"
  },
  "language_info": {
   "codemirror_mode": {
    "name": "ipython",
    "version": 3
   },
   "file_extension": ".py",
   "mimetype": "text/x-python",
   "name": "python",
   "nbconvert_exporter": "python",
   "pygments_lexer": "ipython3",
   "version": "3.11.4"
  },
  "orig_nbformat": 4
 },
 "nbformat": 4,
 "nbformat_minor": 2
}
